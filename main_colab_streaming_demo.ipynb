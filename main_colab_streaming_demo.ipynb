{
 "cells": [
  {
   "cell_type": "markdown",
   "id": "f63d6a1f",
   "metadata": {},
   "source": [
    "# 🈺 Real-Time Japanese-English S2ST (Phase 2)\n",
    "Streaming ASR → Incremental NMT → Streaming TTS"
   ]
  },
  {
   "cell_type": "code",
   "execution_count": null,
   "id": "6b4c880b",
   "metadata": {},
   "outputs": [],
   "source": [
    "!pip install -r requirements.txt"
   ]
  },
  {
   "cell_type": "code",
   "execution_count": null,
   "id": "d0e03df5",
   "metadata": {},
   "outputs": [],
   "source": [
    "# Imports\n",
    "from asr.streaming_whisper_asr import StreamingWhisperASR\n",
    "from nmt.incremental_mt5_translation import IncrementalMT5Translator\n",
    "from tts.streaming_tts import StreamingTTS\n",
    "from utils.audio_io import AudioStreamHandler, play_audio\n",
    "from utils.japanese_utils import tokenize_japanese, detect_honorific\n",
    "import time, tempfile, soundfile as sf\n"
   ]
  },
  {
   "cell_type": "code",
   "execution_count": null,
   "id": "a397a2ae",
   "metadata": {},
   "outputs": [],
   "source": [
    "# Initialize ASR, NMT, TTS\n",
    "asr = StreamingWhisperASR(model_size=\"medium\", compute_type=\"int8\")\n",
    "translator = IncrementalMT5Translator()\n",
    "tts = StreamingTTS()\n",
    "audio_handler = AudioStreamHandler()\n"
   ]
  },
  {
   "cell_type": "code",
   "execution_count": null,
   "id": "f72eea7d",
   "metadata": {},
   "outputs": [],
   "source": [
    "# 🔁 Replace real-time mic loop with file-based inference for Colab\n",
    "import time\n",
    "import tempfile\n",
    "import soundfile as sf\n",
    "\n",
    "# 📂 Path to your uploaded or generated test audio file\n",
    "audio_chunk_fp = \"/content/sample_jp.wav\"  # <-- Change if needed\n",
    "\n",
    "# 🧠 Run the pipeline\n",
    "start_time = time.time()\n",
    "\n",
    "jp_texts = asr.stream_transcribe(audio_chunk_fp)\n",
    "jp_text = \" \".join(jp_texts)\n",
    "print(\"📝 JP:\", jp_text)\n",
    "\n",
    "register = detect_honorific(jp_text)\n",
    "print(\"📛 Register:\", register)\n",
    "\n",
    "en_text = translator.translate_incremental(jp_text)\n",
    "print(\"🌐 EN:\", en_text)\n",
    "\n",
    "# 🗣️ TTS synthesis\n",
    "out_path = tempfile.NamedTemporaryFile(delete=False, suffix=\".wav\").name\n",
    "tts.stream_synthesize(en_text, out_path)\n",
    "play_audio(out_path)\n",
    "\n",
    "latency = round((time.time() - start_time) * 1000, 2)\n",
    "print(f\"⚡ Latency: {latency} ms\")\n",
    "\n",
    "results = [{\n",
    "    \"jp\": jp_text, \"en\": en_text, \"latency_ms\": latency, \"register\": register\n",
    "}]\n",
    "\n",
    "print(\"✅ Done.\")\n"
   ]
  },
  {
   "cell_type": "code",
   "execution_count": null,
   "id": "09580e0d",
   "metadata": {},
   "outputs": [],
   "source": [
    "# ⏱️ Metrics Summary\n",
    "from statistics import mean\n",
    "latencies = [r['latency_ms'] for r in results]\n",
    "print(f\"🔁 Average Latency: {mean(latencies):.2f} ms\")\n",
    "print(\"Translation Outputs:\")\n",
    "for r in results:\n",
    "    print(f\"🈶 JP: {r['jp']} → 🗣 EN: {r['en']} ({r['latency_ms']} ms)\")\n"
   ]
  },
  {
   "cell_type": "code",
   "execution_count": null,
   "id": "ad971fcf",
   "metadata": {},
   "outputs": [],
   "source": [
    "# [Optional] Translation Metric Evaluation — Add Ref/Hyp Pairs if Available\n",
    "# from evaluate import load\n",
    "# metric = load(\"bleu\")\n",
    "# ref = [\"Hello everyone\"]\n",
    "# hyp = [\"Hi all\"]\n",
    "# results = metric.compute(predictions=hyp, references=[[r] for r in ref])\n",
    "# print(\"BLEU:\", results['bleu'])\n"
   ]
  },
  {
   "cell_type": "markdown",
   "id": "14bc93ba",
   "metadata": {},
   "source": [
    "## 🔄 Future: Direct S2ST with Translatotron 2\n",
    "- ESPnet or Google Research repo\n",
    "- Requires pre-trained speech-to-speech model\n",
    "- Integration work planned for Phase 3\n"
   ]
  }
 ],
 "metadata": {},
 "nbformat": 4,
 "nbformat_minor": 5
}
